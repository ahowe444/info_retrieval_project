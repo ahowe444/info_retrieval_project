{
  "nbformat": 4,
  "nbformat_minor": 0,
  "metadata": {
    "colab": {
      "name": "crawler.ipynb",
      "provenance": []
    },
    "kernelspec": {
      "name": "python3",
      "display_name": "Python 3"
    },
    "language_info": {
      "name": "python"
    }
  },
  "cells": [
    {
      "cell_type": "code",
      "metadata": {
        "id": "x2lgopBIAMbk"
      },
      "source": [
        "import json\n",
        "import requests\n",
        "clientID = '0asbh4mg6ocktnlrvkjts9l29g9h8n'\n",
        "secret = 'rifuh05a1wpxcwhrx75fqb8ga3aez3'\n",
        "r = requests.post('https://id.twitch.tv/oauth2/token?client_id='+clientID+'&client_secret='+secret+'&grant_type=client_credentials')\n",
        "token = json.loads(r.content)['access_token']"
      ],
      "execution_count": 1,
      "outputs": []
    },
    {
      "cell_type": "code",
      "metadata": {
        "id": "VRveDadUAStS"
      },
      "source": [
        "def get_id(user):\n",
        "  headers = {'Client-ID': clientID, 'Accept': 'application/vnd.twitchtv.v5+json'}\n",
        "  r = requests.get('https://api.twitch.tv/kraken/users?login='+user, headers =headers)\n",
        "  obj = json.loads(r.content)\n",
        "  try:\n",
        "    return json.loads(r.content)['users'][0]['_id']\n",
        "  except:\n",
        "    return None"
      ],
      "execution_count": 2,
      "outputs": []
    },
    {
      "cell_type": "code",
      "metadata": {
        "id": "wZQPG0V5F2pB"
      },
      "source": [
        "def get_user(id):\n",
        "  headers = {'Client-ID': clientID, 'Accept': 'application/vnd.twitchtv.v5+json'}\n",
        "  r = requests.get('https://api.twitch.tv/kraken/users/'+id, headers =headers)\n",
        "  return json.loads(r.content)['display_name']"
      ],
      "execution_count": 3,
      "outputs": []
    },
    {
      "cell_type": "code",
      "metadata": {
        "id": "Yf8PzRHdGq6X"
      },
      "source": [
        "def follows_who(id):\n",
        "  headers = {'Authorization': 'Bearer '+token, 'Client-ID': clientID, 'Accept': 'application/vnd.twitchtv.v5+json'}\n",
        "  r = requests.get('https://api.twitch.tv/helix/users/follows?from_id='+id+'&first=100', headers =headers)\n",
        "  res = json.loads(r.content)\n",
        "  users = [name['to_name'] for name in res['data']]\n",
        "  page = res['pagination'].get('cursor', None)\n",
        "  while page:\n",
        "    headers = {'Authorization': 'Bearer '+token, 'Client-ID': clientID, 'Accept': 'application/vnd.twitchtv.v5+json'}\n",
        "    r = requests.get('https://api.twitch.tv/helix/users/follows?from_id='+id+'&first=100&after='+page, headers =headers)\n",
        "    res = json.loads(r.content)\n",
        "    new_users = [name['to_name'] for name in res['data']]\n",
        "    users= users + new_users\n",
        "    page = res['pagination'].get('cursor', None)\n",
        "  return users"
      ],
      "execution_count": 4,
      "outputs": []
    },
    {
      "cell_type": "code",
      "metadata": {
        "id": "rkPWFU4zMihC"
      },
      "source": [
        "def compare(streamer1, streamer2):\n",
        "  follow1 = follows_who(get_id(streamer1))\n",
        "  follow2 = follows_who(get_id(streamer2))\n",
        "  sim = [x for x in follow1 if x in follow2]\n",
        "  print(sim)\n",
        "  print(streamer1 +\" and \" + streamer2 + ' have ' + str(len(sim))\n",
        "  + \" followed streamers in common.\")"
      ],
      "execution_count": 5,
      "outputs": []
    },
    {
      "cell_type": "code",
      "metadata": {
        "colab": {
          "base_uri": "https://localhost:8080/"
        },
        "id": "eVWlC1WZNsRj",
        "outputId": "2e8eb7a5-4479-4e97-c884-317ba7b46748"
      },
      "source": [
        "compare('Destiny', 'loltyler1')"
      ],
      "execution_count": 63,
      "outputs": [
        {
          "output_type": "stream",
          "text": [
            "['MOONMOON', 'Macaiyla', 'xQcOW', 'AndyMilonakis', 'Greekgodx', 'Trainwreckstv', 'Reckful', 'Scarra', 'MitchJones']\n",
            "Destiny and loltyler1 have 9 followed streamers in common.\n"
          ],
          "name": "stdout"
        }
      ]
    },
    {
      "cell_type": "code",
      "metadata": {
        "id": "F08C3gNlO8Qb"
      },
      "source": [
        "from queue import Queue\n",
        "def crawl(streamers):\n",
        "  queue = Queue()\n",
        "  for streamer in streamers:\n",
        "    queue.put(streamer)\n",
        "  visited = []\n",
        "  edges = []\n",
        "  while not queue.empty():\n",
        "    name = queue.get()\n",
        "    id = get_id(name)\n",
        "\n",
        "    if id and name not in visited:\n",
        "      visited.append(name)\n",
        "      follows = follows_who(id)\n",
        "      for person in follows:\n",
        "        edges.append((name, person))\n",
        "  return edges"
      ],
      "execution_count": 53,
      "outputs": []
    },
    {
      "cell_type": "code",
      "metadata": {
        "id": "JLu5tP6qPQlx"
      },
      "source": [
        "edges = crawl(['BadBunny', 'Central_Committee', 'VaushVidya'])"
      ],
      "execution_count": 74,
      "outputs": []
    },
    {
      "cell_type": "code",
      "metadata": {
        "colab": {
          "base_uri": "https://localhost:8080/"
        },
        "id": "g7M3I7TyaIha",
        "outputId": "04ac9565-3b02-4a48-b2a6-5e6673410ad9"
      },
      "source": [
        "len(edges)"
      ],
      "execution_count": 75,
      "outputs": [
        {
          "output_type": "execute_result",
          "data": {
            "text/plain": [
              "659"
            ]
          },
          "metadata": {
            "tags": []
          },
          "execution_count": 75
        }
      ]
    },
    {
      "cell_type": "code",
      "metadata": {
        "id": "zrgR8gzxfDPI"
      },
      "source": [
        "import networkx as nx\n",
        "import matplotlib.pyplot as plt\n",
        "G = nx.DiGraph()\n"
      ],
      "execution_count": 79,
      "outputs": []
    },
    {
      "cell_type": "code",
      "metadata": {
        "id": "S71qRDgkfFjg"
      },
      "source": [
        "G.add_edges_from(edges)"
      ],
      "execution_count": 80,
      "outputs": []
    },
    {
      "cell_type": "code",
      "metadata": {
        "id": "WZ3WGjI2iCr6"
      },
      "source": [
        "nx.write_graphml(G, '/content/drive/MyDrive/Colab Notebooks/twitch_graph.graphml')"
      ],
      "execution_count": 81,
      "outputs": []
    }
  ]
}
